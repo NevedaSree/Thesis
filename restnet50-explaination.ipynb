{
 "cells": [
  {
   "cell_type": "code",
   "execution_count": 1,
   "metadata": {},
   "outputs": [
    {
     "name": "stderr",
     "output_type": "stream",
     "text": [
      "C:\\Users\\neved\\Anaconda3\\lib\\site-packages\\h5py\\__init__.py:36: FutureWarning: Conversion of the second argument of issubdtype from `float` to `np.floating` is deprecated. In future, it will be treated as `np.float64 == np.dtype(float).type`.\n",
      "  from ._conv import register_converters as _register_converters\n",
      "Using TensorFlow backend.\n"
     ]
    },
    {
     "name": "stdout",
     "output_type": "stream",
     "text": [
      "Predicted: [('n06359193', 'web_site', 0.65825623), ('n03874599', 'padlock', 0.04830719), ('n02793495', 'barn', 0.039714135)]\n"
     ]
    }
   ],
   "source": [
    "from keras.applications.resnet50 import ResNet50\n",
    "from keras.preprocessing import image\n",
    "from keras.applications.resnet50 import preprocess_input, decode_predictions\n",
    "import numpy as np\n",
    "\n",
    "model = ResNet50(weights='imagenet') #load the restnet50 model\n",
    "\n",
    "#LOADING AND PREPROCESSING THE IMAGE\n",
    "\n",
    "img_path = 'C:/Users/neved/Desktop/genres/JPG.jpg'\n",
    "\n",
    "img = image.load_img(img_path, target_size=(224, 224)) #loading the image\n",
    "\n",
    "x = image.img_to_array(img) #converting image from PIL format to Numpy format\n",
    "\n",
    "x = np.expand_dims(x, axis=0) #networks accept a 4-dimensional Tensor as an input of the form ( batchsize, height, width, channels). \n",
    "#This is done using the expand_dims() function in Numpy.\n",
    "\n",
    "x = preprocess_input(x) #pre-processing the input\n",
    "\n",
    "preds = model.predict(x) #Get the classification result, which is a Tensor of dimension ( batchsize x 1000 )\n",
    "\n",
    "# decode the results into a list of tuples (class, description, probability)\n",
    "# (one such list for each sample in the batch)\n",
    "print('Predicted:', decode_predictions(preds, top=3)[0])\n",
    "# Predicted: [(u'n02504013', u'Indian_elephant', 0.82658225), (u'n01871265', u'tusker', 0.1122357), (u'n02504458', u'African_elephant', 0.061040461)]"
   ]
  },
  {
   "cell_type": "code",
   "execution_count": null,
   "metadata": {},
   "outputs": [],
   "source": []
  }
 ],
 "metadata": {
  "kernelspec": {
   "display_name": "Python 3",
   "language": "python",
   "name": "python3"
  },
  "language_info": {
   "codemirror_mode": {
    "name": "ipython",
    "version": 3
   },
   "file_extension": ".py",
   "mimetype": "text/x-python",
   "name": "python",
   "nbconvert_exporter": "python",
   "pygments_lexer": "ipython3",
   "version": "3.6.5"
  }
 },
 "nbformat": 4,
 "nbformat_minor": 2
}
