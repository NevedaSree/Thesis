{
 "cells": [
  {
   "cell_type": "code",
   "execution_count": 21,
   "metadata": {},
   "outputs": [],
   "source": [
    "import os\n",
    "\n",
    "bluesList = os.listdir('C:/Users/neved/Desktop/genres/blues')\n",
    "classicalList = os.listdir('C:/Users/neved/Desktop/genres/classical')\n",
    "countryList = os.listdir('C:/Users/neved/Desktop/genres/country')\n",
    "discoList = os.listdir('C:/Users/neved/Desktop/genres/disco')\n",
    "hiphopList = os.listdir('C:/Users/neved/Desktop/genres/hiphop')\n",
    "jazzList = os.listdir('C:/Users/neved/Desktop/genres/jazz')\n",
    "metalList = os.listdir('C:/Users/neved/Desktop/genres/metal')\n",
    "popList = os.listdir('C:/Users/neved/Desktop/genres/pop')\n",
    "reggaeList = os.listdir('C:/Users/neved/Desktop/genres/reggae')\n",
    "rockList = os.listdir('C:/Users/neved/Desktop/genres/rock')\n",
    "\n",
    "#target_dir = \n",
    "\n",
    "#print(bluesList)\n",
    "\n",
    "for f in rockList:\n",
    "    cstr = \"C:\\\\Users\\\\neved\\\\Desktop\\\\ffmpeg\\\\ffmpeg-4.0.2-win64-static\\\\bin\\\\ffmpeg -i C:\\\\Users\\\\neved\\\\Desktop\\\\genres\\\\rock\\\\\" + f + \" C:\\\\Users\\\\neved\\\\Desktop\\\\wavefile\\\\rock\\\\\" + f[:-3] + \".wav\"\n",
    "   # print(cstr)\n",
    "    os.system(cstr)\n",
    "    "
   ]
  },
  {
   "cell_type": "code",
   "execution_count": null,
   "metadata": {},
   "outputs": [],
   "source": []
  }
 ],
 "metadata": {
  "kernelspec": {
   "display_name": "Python 3",
   "language": "python",
   "name": "python3"
  },
  "language_info": {
   "codemirror_mode": {
    "name": "ipython",
    "version": 3
   },
   "file_extension": ".py",
   "mimetype": "text/x-python",
   "name": "python",
   "nbconvert_exporter": "python",
   "pygments_lexer": "ipython3",
   "version": "3.6.5"
  }
 },
 "nbformat": 4,
 "nbformat_minor": 2
}
