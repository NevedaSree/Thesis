{
 "cells": [
  {
   "cell_type": "code",
   "execution_count": 13,
   "metadata": {},
   "outputs": [
    {
     "name": "stdout",
     "output_type": "stream",
     "text": [
      "Found 250 images belonging to 4 classes.\n",
      "Found 240 images belonging to 4 classes.\n",
      "Epoch 1/2\n",
      "2040/2040 [==============================] - 2927s 1s/step - loss: 0.5461 - acc: 0.6973 - val_loss: 3.2169 - val_acc: 0.4583\n",
      "Epoch 2/2\n",
      "2040/2040 [==============================] - 2890s 1s/step - loss: 0.0584 - acc: 0.9787 - val_loss: 4.2683 - val_acc: 0.4708\n"
     ]
    },
    {
     "data": {
      "text/plain": [
       "<keras.callbacks.History at 0x199dba8f860>"
      ]
     },
     "execution_count": 13,
     "metadata": {},
     "output_type": "execute_result"
    }
   ],
   "source": [
    "from keras.models import Sequential #for initializing the CNN model\n",
    "from keras.layers import Conv2D # used for creating convolutions layers ,2D is for images ,3D could be used for videos\n",
    "from keras.layers import MaxPooling2D # used for creating pooling layer \n",
    "from keras.layers import Flatten # to convert pixels to arrays and fire up Neural networks !\n",
    "from keras.layers import Dense # for creation of hidden layers\n",
    "from keras.preprocessing.image import ImageDataGenerator # allows importing images in target size and also rescaling them.\n",
    "\n",
    "# Initialising the CNN\n",
    "classifier = Sequential()\n",
    "\n",
    "# Convolution layer with activated function\n",
    "# rectified linear unit extracts clear pixels from images with more noise levels\n",
    "# reLU replaces negative pixels with '0', thus focusing only on the features\n",
    "# '32' is the number of feature maps and '3' emans colored images going to be inputs , '64' being the size of image\n",
    "classifier.add(Conv2D(32, (3, 3), input_shape = (64, 64, 3), activation = 'relu'))\n",
    "\n",
    "# MaxPooling\n",
    "# Running a 2x2 search extraction over the feature maps to retrieve the area with highest pixel number\n",
    "classifier.add(MaxPooling2D(pool_size = (2, 2)))\n",
    "\n",
    "# Adding a second convolutional layer\n",
    "classifier.add(Conv2D(64, (3, 3), activation = 'relu'))\n",
    "classifier.add(MaxPooling2D(pool_size = (2, 2)))\n",
    "\n",
    "# Flattening\n",
    "# MaxPooled layer result is then converted into array of rows, so can act as input to full connection Neural networks\n",
    "classifier.add(Flatten())\n",
    "\n",
    "# full_Connection\n",
    "# creation of hidden layers with '128' neurons and '4' neuron at the output layer which has 4 Genre output\n",
    "classifier.add(Dense(units = 128, activation = 'relu'))\n",
    "classifier.add(Dense(units = 128, activation = 'relu'))\n",
    "classifier.add(Dense(units = 4, activation = 'sigmoid'))\n",
    "\n",
    "# Compiling the CNN\n",
    "classifier.compile(optimizer = 'adam', loss = 'categorical_crossentropy', metrics = ['accuracy'])\n",
    "\n",
    "# Preprocessing and fitting the CNN to the images\n",
    "\n",
    "\n",
    "# rescaling parameters for training data when imported\n",
    "train_datagen = ImageDataGenerator(rescale = 1./255,\n",
    "                                   shear_range = 0.2,\n",
    "                                   zoom_range = 0.2,\n",
    "                                   horizontal_flip = True)\n",
    "\n",
    "# rescaling test data for test data when imported\n",
    "test_datagen = ImageDataGenerator(rescale = 1./255)\n",
    "\n",
    "# importing training data in a batch of '32' and size of 64x64, same applies for testing\n",
    "training_set = train_datagen.flow_from_directory('C:/Users/neved/Desktop/spectrogram/train',\n",
    "                                                 target_size = (64, 64),\n",
    "                                                 batch_size = 32,\n",
    "                                                 class_mode = 'categorical')\n",
    "\n",
    "test_set = test_datagen.flow_from_directory('C:/Users/neved/Desktop/spectrogram/validation',\n",
    "                                            target_size = (64, 64),\n",
    "                                            batch_size = 32,\n",
    "                                            class_mode = 'categorical')\n",
    "\n",
    "\n",
    "# pitching in all above processes to train the predictor\n",
    "classifier.fit_generator(training_set,\n",
    "                         steps_per_epoch = 2040,\n",
    "                         epochs = 2,\n",
    "                         validation_data = test_set,\n",
    "                         validation_steps = 200)\n",
    "\n"
   ]
  },
  {
   "cell_type": "code",
   "execution_count": null,
   "metadata": {},
   "outputs": [],
   "source": []
  }
 ],
 "metadata": {
  "kernelspec": {
   "display_name": "Python 3",
   "language": "python",
   "name": "python3"
  },
  "language_info": {
   "codemirror_mode": {
    "name": "ipython",
    "version": 3
   },
   "file_extension": ".py",
   "mimetype": "text/x-python",
   "name": "python",
   "nbconvert_exporter": "python",
   "pygments_lexer": "ipython3",
   "version": "3.6.5"
  }
 },
 "nbformat": 4,
 "nbformat_minor": 2
}
